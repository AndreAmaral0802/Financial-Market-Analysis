{
  "nbformat": 4,
  "nbformat_minor": 0,
  "metadata": {
    "colab": {
      "name": "stock_predic_NT.ipynb",
      "provenance": [],
      "collapsed_sections": [],
      "authorship_tag": "ABX9TyMV3oYPanIKYnjC8l2wPf5Z",
      "include_colab_link": true
    },
    "kernelspec": {
      "name": "python3",
      "display_name": "Python 3"
    }
  },
  "cells": [
    {
      "cell_type": "markdown",
      "metadata": {
        "id": "view-in-github",
        "colab_type": "text"
      },
      "source": [
        "<a href=\"https://colab.research.google.com/github/AndreAmaral0802/real_state_funds_VS_SELIC/blob/main/stock_predic_NT.ipynb\" target=\"_parent\"><img src=\"https://colab.research.google.com/assets/colab-badge.svg\" alt=\"Open In Colab\"/></a>"
      ]
    },
    {
      "cell_type": "code",
      "metadata": {
        "id": "xvmQUQX2se1E"
      },
      "source": [
        "# Description: This program uses an artificial recurrent neural network called Long Short Term Memorym (LSTM)\n",
        "# We will use this code to predict the closing stock price of a corporation (Tesla Inc.) using the past 60 days stock price."
      ],
      "execution_count": null,
      "outputs": []
    },
    {
      "cell_type": "code",
      "metadata": {
        "id": "dkHTf_rLtW9C"
      },
      "source": [
        "#Import the Libraries \n",
        "import math\n",
        "import pandas_datareader as web\n",
        "import numpy as np\n",
        "import pandas as pd\n",
        "from sklearn.preprocessing import MinMaxScaler\n",
        "from keras.models import Sequential \n",
        "from keras.layers import Dense, LSTM\n",
        "import matplotlib.pyplot as plt\n",
        "plt.style.use('fivethirtyeight')"
      ],
      "execution_count": null,
      "outputs": []
    },
    {
      "cell_type": "code",
      "metadata": {
        "id": "7ZiKJf-Eudpb",
        "colab": {
          "base_uri": "https://localhost:8080/",
          "height": 439
        },
        "outputId": "17ce72c4-6729-4bfe-a797-1078c2a2d0c8"
      },
      "source": [
        "#Get the stock quote\n",
        "df = web.DataReader('TSLA', data_source='yahoo', start='2012-01-01', end='2021-02-10')\n",
        "#Show the data\n",
        "df\n"
      ],
      "execution_count": null,
      "outputs": [
        {
          "output_type": "execute_result",
          "data": {
            "text/html": [
              "<div>\n",
              "<style scoped>\n",
              "    .dataframe tbody tr th:only-of-type {\n",
              "        vertical-align: middle;\n",
              "    }\n",
              "\n",
              "    .dataframe tbody tr th {\n",
              "        vertical-align: top;\n",
              "    }\n",
              "\n",
              "    .dataframe thead th {\n",
              "        text-align: right;\n",
              "    }\n",
              "</style>\n",
              "<table border=\"1\" class=\"dataframe\">\n",
              "  <thead>\n",
              "    <tr style=\"text-align: right;\">\n",
              "      <th></th>\n",
              "      <th>High</th>\n",
              "      <th>Low</th>\n",
              "      <th>Open</th>\n",
              "      <th>Close</th>\n",
              "      <th>Volume</th>\n",
              "      <th>Adj Close</th>\n",
              "    </tr>\n",
              "    <tr>\n",
              "      <th>Date</th>\n",
              "      <th></th>\n",
              "      <th></th>\n",
              "      <th></th>\n",
              "      <th></th>\n",
              "      <th></th>\n",
              "      <th></th>\n",
              "    </tr>\n",
              "  </thead>\n",
              "  <tbody>\n",
              "    <tr>\n",
              "      <th>2012-01-03</th>\n",
              "      <td>5.900000</td>\n",
              "      <td>5.530000</td>\n",
              "      <td>5.788000</td>\n",
              "      <td>5.616000</td>\n",
              "      <td>4640500.0</td>\n",
              "      <td>5.616000</td>\n",
              "    </tr>\n",
              "    <tr>\n",
              "      <th>2012-01-04</th>\n",
              "      <td>5.734000</td>\n",
              "      <td>5.500000</td>\n",
              "      <td>5.642000</td>\n",
              "      <td>5.542000</td>\n",
              "      <td>3150500.0</td>\n",
              "      <td>5.542000</td>\n",
              "    </tr>\n",
              "    <tr>\n",
              "      <th>2012-01-05</th>\n",
              "      <td>5.586000</td>\n",
              "      <td>5.370000</td>\n",
              "      <td>5.552000</td>\n",
              "      <td>5.424000</td>\n",
              "      <td>5027500.0</td>\n",
              "      <td>5.424000</td>\n",
              "    </tr>\n",
              "    <tr>\n",
              "      <th>2012-01-06</th>\n",
              "      <td>5.558000</td>\n",
              "      <td>5.282000</td>\n",
              "      <td>5.440000</td>\n",
              "      <td>5.382000</td>\n",
              "      <td>4931500.0</td>\n",
              "      <td>5.382000</td>\n",
              "    </tr>\n",
              "    <tr>\n",
              "      <th>2012-01-09</th>\n",
              "      <td>5.498000</td>\n",
              "      <td>5.224000</td>\n",
              "      <td>5.400000</td>\n",
              "      <td>5.450000</td>\n",
              "      <td>4485000.0</td>\n",
              "      <td>5.450000</td>\n",
              "    </tr>\n",
              "    <tr>\n",
              "      <th>...</th>\n",
              "      <td>...</td>\n",
              "      <td>...</td>\n",
              "      <td>...</td>\n",
              "      <td>...</td>\n",
              "      <td>...</td>\n",
              "      <td>...</td>\n",
              "    </tr>\n",
              "    <tr>\n",
              "      <th>2021-02-04</th>\n",
              "      <td>856.500000</td>\n",
              "      <td>833.419983</td>\n",
              "      <td>855.000000</td>\n",
              "      <td>849.989990</td>\n",
              "      <td>15812700.0</td>\n",
              "      <td>849.989990</td>\n",
              "    </tr>\n",
              "    <tr>\n",
              "      <th>2021-02-05</th>\n",
              "      <td>864.770020</td>\n",
              "      <td>838.969971</td>\n",
              "      <td>845.000000</td>\n",
              "      <td>852.229980</td>\n",
              "      <td>18524800.0</td>\n",
              "      <td>852.229980</td>\n",
              "    </tr>\n",
              "    <tr>\n",
              "      <th>2021-02-08</th>\n",
              "      <td>877.770020</td>\n",
              "      <td>854.750000</td>\n",
              "      <td>869.669983</td>\n",
              "      <td>863.419983</td>\n",
              "      <td>20161700.0</td>\n",
              "      <td>863.419983</td>\n",
              "    </tr>\n",
              "    <tr>\n",
              "      <th>2021-02-09</th>\n",
              "      <td>859.799988</td>\n",
              "      <td>841.750000</td>\n",
              "      <td>855.119995</td>\n",
              "      <td>849.460022</td>\n",
              "      <td>15157700.0</td>\n",
              "      <td>849.460022</td>\n",
              "    </tr>\n",
              "    <tr>\n",
              "      <th>2021-02-10</th>\n",
              "      <td>844.820007</td>\n",
              "      <td>800.020020</td>\n",
              "      <td>843.640015</td>\n",
              "      <td>804.820007</td>\n",
              "      <td>36216100.0</td>\n",
              "      <td>804.820007</td>\n",
              "    </tr>\n",
              "  </tbody>\n",
              "</table>\n",
              "<p>2292 rows × 6 columns</p>\n",
              "</div>"
            ],
            "text/plain": [
              "                  High         Low  ...      Volume   Adj Close\n",
              "Date                                ...                        \n",
              "2012-01-03    5.900000    5.530000  ...   4640500.0    5.616000\n",
              "2012-01-04    5.734000    5.500000  ...   3150500.0    5.542000\n",
              "2012-01-05    5.586000    5.370000  ...   5027500.0    5.424000\n",
              "2012-01-06    5.558000    5.282000  ...   4931500.0    5.382000\n",
              "2012-01-09    5.498000    5.224000  ...   4485000.0    5.450000\n",
              "...                ...         ...  ...         ...         ...\n",
              "2021-02-04  856.500000  833.419983  ...  15812700.0  849.989990\n",
              "2021-02-05  864.770020  838.969971  ...  18524800.0  852.229980\n",
              "2021-02-08  877.770020  854.750000  ...  20161700.0  863.419983\n",
              "2021-02-09  859.799988  841.750000  ...  15157700.0  849.460022\n",
              "2021-02-10  844.820007  800.020020  ...  36216100.0  804.820007\n",
              "\n",
              "[2292 rows x 6 columns]"
            ]
          },
          "metadata": {
            "tags": []
          },
          "execution_count": 3
        }
      ]
    },
    {
      "cell_type": "code",
      "metadata": {
        "id": "Ca0EaVKlvTUl",
        "colab": {
          "base_uri": "https://localhost:8080/"
        },
        "outputId": "796763cf-bb61-4e0c-d96b-726926f0b89c"
      },
      "source": [
        "#Get the numer of rowa and columns\n",
        "df.shape"
      ],
      "execution_count": null,
      "outputs": [
        {
          "output_type": "execute_result",
          "data": {
            "text/plain": [
              "(2292, 6)"
            ]
          },
          "metadata": {
            "tags": []
          },
          "execution_count": 4
        }
      ]
    },
    {
      "cell_type": "code",
      "metadata": {
        "id": "GcIKwwxZvfOJ",
        "colab": {
          "base_uri": "https://localhost:8080/",
          "height": 558
        },
        "outputId": "ef342607-edd4-4672-b8b0-65ed0965b118"
      },
      "source": [
        "#Visualise the closing price history\n",
        "plt.figure(figsize=(16,8))\n",
        "plt.title('Close Price History')\n",
        "plt.plot(df['Close'])\n",
        "plt.xlabel('Date', fontsize=18)\n",
        "plt.ylabel('Close Price USD ($)', fontsize=18)\n",
        "plt.show()"
      ],
      "execution_count": null,
      "outputs": [
        {
          "output_type": "display_data",
          "data": {
            "image/png": "[encoded data removed]",
            "text/plain": [
              "<Figure size 1152x576 with 1 Axes>"
            ]
          },
          "metadata": {
            "tags": []
          }
        }
      ]
    },
    {
      "cell_type": "code",
      "metadata": {
        "id": "1Bsvnqbfw2p9",
        "colab": {
          "base_uri": "https://localhost:8080/"
        },
        "outputId": "b66e1817-d923-40b0-e68e-a70ab42aee34"
      },
      "source": [
        "#Create a new dataframe with only the 'Close column'\n",
        "data = df.filter(['Close'])\n",
        "#Convert the dataframe to numpy array\n",
        "dataset = data.values\n",
        "#Get the number of rows to train the model on\n",
        "training_data_len = math.ceil(len(dataset) * .8)\n",
        "\n",
        "training_data_len"
      ],
      "execution_count": null,
      "outputs": [
        {
          "output_type": "execute_result",
          "data": {
            "text/plain": [
              "1834"
            ]
          },
          "metadata": {
            "tags": []
          },
          "execution_count": 6
        }
      ]
    },
    {
      "cell_type": "code",
      "metadata": {
        "id": "Of2SYyD4x16Y",
        "colab": {
          "base_uri": "https://localhost:8080/"
        },
        "outputId": "a5470c88-2969-4f3a-a167-15455759d23a"
      },
      "source": [
        "#Scale the data\n",
        "scaler = MinMaxScaler(feature_range=(0,1))\n",
        "scaled_data = scaler.fit_transform(dataset)\n",
        "\n",
        "scaled_data"
      ],
      "execution_count": null,
      "outputs": [
        {
          "output_type": "execute_result",
          "data": {
            "text/plain": [
              "array([[0.00120428],\n",
              "       [0.00112005],\n",
              "       [0.00098573],\n",
              "       ...,\n",
              "       [0.97761033],\n",
              "       [0.96172023],\n",
              "       [0.91090818]])"
            ]
          },
          "metadata": {
            "tags": []
          },
          "execution_count": 7
        }
      ]
    },
    {
      "cell_type": "code",
      "metadata": {
        "id": "jBGHq8CoyiRs",
        "colab": {
          "base_uri": "https://localhost:8080/"
        },
        "outputId": "e8ab8cdc-95d5-40a6-dddd-7bd977eb1939"
      },
      "source": [
        "#Creat the training dataset\n",
        "#Creat the scaled training dataset\n",
        "train_data = scaled_data[0:training_data_len , :]\n",
        "#Split the data into x_train and y_train data sets\n",
        "x_train = []\n",
        "y_train = []\n",
        "\n",
        "for i in range(60, len(train_data)):\n",
        "  x_train.append(train_data[i-60:i, 0])\n",
        "  y_train.append(train_data[i, 0])\n",
        "  if i<= 61:\n",
        "    print(x_train)\n",
        "    print(y_train)\n",
        "    print()"
      ],
      "execution_count": null,
      "outputs": [
        {
          "output_type": "stream",
          "text": [
            "[array([0.00120428, 0.00112005, 0.00098573, 0.00093793, 0.00101533,\n",
            "       0.00109956, 0.00123843, 0.00124298, 0.        , 0.00086736,\n",
            "       0.00091516, 0.00090378, 0.00086736, 0.00090606, 0.00105403,\n",
            "       0.00117924, 0.00140006, 0.00148885, 0.00154348, 0.00142966,\n",
            "       0.00154576, 0.00169829, 0.00190317, 0.00205115, 0.00200562,\n",
            "       0.00208074, 0.00222872, 0.00189179, 0.00198058, 0.00236303,\n",
            "       0.00246092, 0.00259296, 0.00277281, 0.00266581, 0.00260207,\n",
            "       0.00267264, 0.00249507, 0.00246548, 0.00250873, 0.00241767,\n",
            "       0.00264532, 0.00256109, 0.00249962, 0.00234937, 0.00235165,\n",
            "       0.00234027, 0.00272045, 0.00300957, 0.00302778, 0.00284566,\n",
            "       0.00277964, 0.00285249, 0.00277508, 0.00277053, 0.00281378,\n",
            "       0.00264305, 0.0025702 , 0.003326  , 0.00344893, 0.00342845])]\n",
            "[0.0033100671390087323]\n",
            "\n",
            "[array([0.00120428, 0.00112005, 0.00098573, 0.00093793, 0.00101533,\n",
            "       0.00109956, 0.00123843, 0.00124298, 0.        , 0.00086736,\n",
            "       0.00091516, 0.00090378, 0.00086736, 0.00090606, 0.00105403,\n",
            "       0.00117924, 0.00140006, 0.00148885, 0.00154348, 0.00142966,\n",
            "       0.00154576, 0.00169829, 0.00190317, 0.00205115, 0.00200562,\n",
            "       0.00208074, 0.00222872, 0.00189179, 0.00198058, 0.00236303,\n",
            "       0.00246092, 0.00259296, 0.00277281, 0.00266581, 0.00260207,\n",
            "       0.00267264, 0.00249507, 0.00246548, 0.00250873, 0.00241767,\n",
            "       0.00264532, 0.00256109, 0.00249962, 0.00234937, 0.00235165,\n",
            "       0.00234027, 0.00272045, 0.00300957, 0.00302778, 0.00284566,\n",
            "       0.00277964, 0.00285249, 0.00277508, 0.00277053, 0.00281378,\n",
            "       0.00264305, 0.0025702 , 0.003326  , 0.00344893, 0.00342845]), array([0.00112005, 0.00098573, 0.00093793, 0.00101533, 0.00109956,\n",
            "       0.00123843, 0.00124298, 0.        , 0.00086736, 0.00091516,\n",
            "       0.00090378, 0.00086736, 0.00090606, 0.00105403, 0.00117924,\n",
            "       0.00140006, 0.00148885, 0.00154348, 0.00142966, 0.00154576,\n",
            "       0.00169829, 0.00190317, 0.00205115, 0.00200562, 0.00208074,\n",
            "       0.00222872, 0.00189179, 0.00198058, 0.00236303, 0.00246092,\n",
            "       0.00259296, 0.00277281, 0.00266581, 0.00260207, 0.00267264,\n",
            "       0.00249507, 0.00246548, 0.00250873, 0.00241767, 0.00264532,\n",
            "       0.00256109, 0.00249962, 0.00234937, 0.00235165, 0.00234027,\n",
            "       0.00272045, 0.00300957, 0.00302778, 0.00284566, 0.00277964,\n",
            "       0.00285249, 0.00277508, 0.00277053, 0.00281378, 0.00264305,\n",
            "       0.0025702 , 0.003326  , 0.00344893, 0.00342845, 0.00331007])]\n",
            "[0.0033100671390087323, 0.0032895782719707988]\n",
            "\n"
          ],
          "name": "stdout"
        }
      ]
    },
    {
      "cell_type": "code",
      "metadata": {
        "id": "yqzLXBX42JxC"
      },
      "source": [
        "#Convert the x_train and y_train to numpy arrays\n",
        "x_train, y_train = np.array(x_train), np.array(y_train)"
      ],
      "execution_count": null,
      "outputs": []
    },
    {
      "cell_type": "code",
      "metadata": {
        "id": "ybQNPAqL2wcG",
        "colab": {
          "base_uri": "https://localhost:8080/"
        },
        "outputId": "dcd7616a-dc61-4b09-e18f-8d386dc3213c"
      },
      "source": [
        "#Reshape the data\n",
        "x_train = np.reshape(x_train, (x_train.shape[0], x_train.shape[1], 1))\n",
        "x_train.shape"
      ],
      "execution_count": null,
      "outputs": [
        {
          "output_type": "execute_result",
          "data": {
            "text/plain": [
              "(1774, 60, 1)"
            ]
          },
          "metadata": {
            "tags": []
          },
          "execution_count": 10
        }
      ]
    },
    {
      "cell_type": "code",
      "metadata": {
        "id": "rhepVEc63hc7"
      },
      "source": [
        "#Build the LSTM model\n",
        "model = Sequential()\n",
        "model.add(LSTM(50, return_sequences=True, input_shape= (x_train.shape[1], 1)))\n",
        "model.add(LSTM(50, return_sequences= False))\n",
        "model.add(Dense(25))\n",
        "model.add(Dense(1))\n"
      ],
      "execution_count": null,
      "outputs": []
    },
    {
      "cell_type": "code",
      "metadata": {
        "id": "Iews30oz4ll2"
      },
      "source": [
        "#Compile the model\n",
        "model.compile(optimizer='adam', loss='mean_squared_error')"
      ],
      "execution_count": null,
      "outputs": []
    },
    {
      "cell_type": "code",
      "metadata": {
        "id": "WNNkTEbn5EOh",
        "colab": {
          "base_uri": "https://localhost:8080/"
        },
        "outputId": "fab93e2e-61cd-4b88-de63-c9dc15976c3d"
      },
      "source": [
        "#Train the model\n",
        "model.fit(x_train, y_train, batch_size=1, epochs=1)"
      ],
      "execution_count": null,
      "outputs": [
        {
          "output_type": "stream",
          "text": [
            "1774/1774 [==============================] - 37s 19ms/step - loss: 8.3490e-05\n"
          ],
          "name": "stdout"
        },
        {
          "output_type": "execute_result",
          "data": {
            "text/plain": [
              "<tensorflow.python.keras.callbacks.History at 0x7fa46ea6c400>"
            ]
          },
          "metadata": {
            "tags": []
          },
          "execution_count": 13
        }
      ]
    },
    {
      "cell_type": "code",
      "metadata": {
        "id": "7uYQrwvG5pCL"
      },
      "source": [
        "#Create the testing dataset\n",
        "#CReate a new array containing scaled values from index 1543 to 2003\n",
        "test_data = scaled_data[training_data_len - 60: , :]\n",
        "#Create the data sets x_test and y_test\n",
        "x_test = []\n",
        "y_test = dataset[training_data_len:, :]\n",
        "for i in range(60, len(test_data)):\n",
        "  x_test.append(test_data[i-60:i, 0])\n",
        "  "
      ],
      "execution_count": null,
      "outputs": []
    },
    {
      "cell_type": "code",
      "metadata": {
        "id": "6H_3Etbq6537"
      },
      "source": [
        "#Convert data to a numpy array\n",
        "x_test = np.array(x_test)"
      ],
      "execution_count": null,
      "outputs": []
    },
    {
      "cell_type": "code",
      "metadata": {
        "id": "PAqylaTe7Ahz"
      },
      "source": [
        "#Reshape the data\n",
        "x_test = np.reshape(x_test, (x_test.shape[0], x_test.shape[1], 1))"
      ],
      "execution_count": null,
      "outputs": []
    },
    {
      "cell_type": "code",
      "metadata": {
        "id": "VGwEJEF47cr0"
      },
      "source": [
        "#get the models predicted price values\n",
        "predictions = model.predict(x_test)\n",
        "predictions = scaler.inverse_transform(predictions)"
      ],
      "execution_count": null,
      "outputs": []
    },
    {
      "cell_type": "code",
      "metadata": {
        "id": "AfjlZx5674Ul",
        "colab": {
          "base_uri": "https://localhost:8080/"
        },
        "outputId": "52666e86-e915-4d57-84c6-9898634501db"
      },
      "source": [
        "#Get the root mean squared error (RMSE)\n",
        "rmse = np.sqrt( np.mean( predictions - y_test )**2 )\n",
        "rmse"
      ],
      "execution_count": null,
      "outputs": [
        {
          "output_type": "execute_result",
          "data": {
            "text/plain": [
              "34.31718892926212"
            ]
          },
          "metadata": {
            "tags": []
          },
          "execution_count": 18
        }
      ]
    },
    {
      "cell_type": "code",
      "metadata": {
        "id": "tAN1y3xS8PyA",
        "colab": {
          "base_uri": "https://localhost:8080/",
          "height": 656
        },
        "outputId": "efb6047d-d43e-416a-c82d-f9d0f873a22f"
      },
      "source": [
        "#Plot the data\n",
        "train =data[:training_data_len]\n",
        "valid = data[training_data_len:]\n",
        "valid['Predictions'] = predictions#Visualise the data\n",
        "plt.figure(figsize=(16,8))\n",
        "plt.title('Model')\n",
        "plt.xlabel('Data', fontsize=18)\n",
        "plt.ylabel('Close Price USD ($)', fontsize=18)\n",
        "plt.plot(train['Close'])\n",
        "plt.plot(valid[['Close', 'Predictions']])\n",
        "plt.legend(['Train', 'Val', 'Predictions'], loc='lower right')\n",
        "plt.show()\n"
      ],
      "execution_count": null,
      "outputs": [
        {
          "output_type": "stream",
          "text": [
            "/usr/local/lib/python3.6/dist-packages/ipykernel_launcher.py:4: SettingWithCopyWarning: \n",
            "A value is trying to be set on a copy of a slice from a DataFrame.\n",
            "Try using .loc[row_indexer,col_indexer] = value instead\n",
            "\n",
            "See the caveats in the documentation: https://pandas.pydata.org/pandas-docs/stable/user_guide/indexing.html#returning-a-view-versus-a-copy\n",
            "  after removing the cwd from sys.path.\n"
          ],
          "name": "stderr"
        },
        {
          "output_type": "display_data",
          "data": {
            "image/png": "[encoded data removed]",
            "text/plain": [
              "<Figure size 1152x576 with 1 Axes>"
            ]
          },
          "metadata": {
            "tags": []
          }
        }
      ]
    },
    {
      "cell_type": "code",
      "metadata": {
        "id": "FkiP41AV-LTk"
      },
      "source": [
        ""
      ],
      "execution_count": null,
      "outputs": []
    },
    {
      "cell_type": "code",
      "metadata": {
        "id": "WlCl92Vl_Bem",
        "colab": {
          "base_uri": "https://localhost:8080/",
          "height": 439
        },
        "outputId": "77d19bf1-d587-42e2-ad1d-654ca1730557"
      },
      "source": [
        "#Show the valid and predicted prices\n",
        "valid"
      ],
      "execution_count": null,
      "outputs": [
        {
          "output_type": "execute_result",
          "data": {
            "text/html": [
              "<div>\n",
              "<style scoped>\n",
              "    .dataframe tbody tr th:only-of-type {\n",
              "        vertical-align: middle;\n",
              "    }\n",
              "\n",
              "    .dataframe tbody tr th {\n",
              "        vertical-align: top;\n",
              "    }\n",
              "\n",
              "    .dataframe thead th {\n",
              "        text-align: right;\n",
              "    }\n",
              "</style>\n",
              "<table border=\"1\" class=\"dataframe\">\n",
              "  <thead>\n",
              "    <tr style=\"text-align: right;\">\n",
              "      <th></th>\n",
              "      <th>Close</th>\n",
              "      <th>Predictions</th>\n",
              "    </tr>\n",
              "    <tr>\n",
              "      <th>Date</th>\n",
              "      <th></th>\n",
              "      <th></th>\n",
              "    </tr>\n",
              "  </thead>\n",
              "  <tbody>\n",
              "    <tr>\n",
              "      <th>2019-04-18</th>\n",
              "      <td>54.652000</td>\n",
              "      <td>54.132442</td>\n",
              "    </tr>\n",
              "    <tr>\n",
              "      <th>2019-04-22</th>\n",
              "      <td>52.549999</td>\n",
              "      <td>54.098167</td>\n",
              "    </tr>\n",
              "    <tr>\n",
              "      <th>2019-04-23</th>\n",
              "      <td>52.779999</td>\n",
              "      <td>53.924240</td>\n",
              "    </tr>\n",
              "    <tr>\n",
              "      <th>2019-04-24</th>\n",
              "      <td>51.731998</td>\n",
              "      <td>53.706730</td>\n",
              "    </tr>\n",
              "    <tr>\n",
              "      <th>2019-04-25</th>\n",
              "      <td>49.526001</td>\n",
              "      <td>53.389217</td>\n",
              "    </tr>\n",
              "    <tr>\n",
              "      <th>...</th>\n",
              "      <td>...</td>\n",
              "      <td>...</td>\n",
              "    </tr>\n",
              "    <tr>\n",
              "      <th>2021-02-04</th>\n",
              "      <td>849.989990</td>\n",
              "      <td>642.984192</td>\n",
              "    </tr>\n",
              "    <tr>\n",
              "      <th>2021-02-05</th>\n",
              "      <td>852.229980</td>\n",
              "      <td>643.249084</td>\n",
              "    </tr>\n",
              "    <tr>\n",
              "      <th>2021-02-08</th>\n",
              "      <td>863.419983</td>\n",
              "      <td>643.591919</td>\n",
              "    </tr>\n",
              "    <tr>\n",
              "      <th>2021-02-09</th>\n",
              "      <td>849.460022</td>\n",
              "      <td>644.648254</td>\n",
              "    </tr>\n",
              "    <tr>\n",
              "      <th>2021-02-10</th>\n",
              "      <td>804.820007</td>\n",
              "      <td>645.002686</td>\n",
              "    </tr>\n",
              "  </tbody>\n",
              "</table>\n",
              "<p>458 rows × 2 columns</p>\n",
              "</div>"
            ],
            "text/plain": [
              "                 Close  Predictions\n",
              "Date                               \n",
              "2019-04-18   54.652000    54.132442\n",
              "2019-04-22   52.549999    54.098167\n",
              "2019-04-23   52.779999    53.924240\n",
              "2019-04-24   51.731998    53.706730\n",
              "2019-04-25   49.526001    53.389217\n",
              "...                ...          ...\n",
              "2021-02-04  849.989990   642.984192\n",
              "2021-02-05  852.229980   643.249084\n",
              "2021-02-08  863.419983   643.591919\n",
              "2021-02-09  849.460022   644.648254\n",
              "2021-02-10  804.820007   645.002686\n",
              "\n",
              "[458 rows x 2 columns]"
            ]
          },
          "metadata": {
            "tags": []
          },
          "execution_count": 20
        }
      ]
    },
    {
      "cell_type": "code",
      "metadata": {
        "id": "ZTfzCHyVBmpU",
        "colab": {
          "base_uri": "https://localhost:8080/"
        },
        "outputId": "15e790ab-36a7-4100-ac90-cfa5f5692653"
      },
      "source": [
        "#Get the quote   (This is to predict the stock value of next day or 18/12/2019)\n",
        "apple_quote = web.DataReader('TSLA', data_source='yahoo', start='2012-01-01', end='2021-02-11')\n",
        "#Create a new dataframe\n",
        "new_df = apple_quote.filter(['Close'])\n",
        "#Get the last 60 days closing price values and convert the dataframe to an array\n",
        "last_60_days = new_df[-60:].values\n",
        "#Scale the data to be values between 0 and 1\n",
        "last_60_days_scaled = scaler.transform(last_60_days)\n",
        "#Create an empty list\n",
        "X_test = []\n",
        "#Append the past 60 days\n",
        "X_test.append(last_60_days_scaled)\n",
        "#Convert the X_test dataset to a numpy array\n",
        "X_test = np.array(X_test)\n",
        "#Reshape the data\n",
        "X_test = np.reshape(X_test, (X_test.shape[0], X_test.shape[1], 1))\n",
        "#Get the scaling price\n",
        "pred_price = model.predict(X_test)\n",
        "#undo the scaling\n",
        "pred_price = scaler.inverse_transform(pred_price)\n",
        "print(pred_price)"
      ],
      "execution_count": null,
      "outputs": [
        {
          "output_type": "stream",
          "text": [
            "[[638.5933]]\n"
          ],
          "name": "stdout"
        }
      ]
    },
    {
      "cell_type": "code",
      "metadata": {
        "id": "dF4yA0KsERpj",
        "colab": {
          "base_uri": "https://localhost:8080/"
        },
        "outputId": "69524541-5dbc-47ba-834b-75ca725ea3da"
      },
      "source": [
        "#Get the quote for the real value of 18/12/2019\n",
        "tesla_quote2 = web.DataReader('TSLA', data_source='yahoo', start='2021-02-10', end='2021-02-11')\n",
        "print(tesla_quote2['Close'])"
      ],
      "execution_count": null,
      "outputs": [
        {
          "output_type": "stream",
          "text": [
            "Date\n",
            "2021-02-10    804.820007\n",
            "2021-02-11    811.659973\n",
            "Name: Close, dtype: float64\n"
          ],
          "name": "stdout"
        }
      ]
    },
    {
      "cell_type": "code",
      "metadata": {
        "id": "WqfL_YmOFPnN"
      },
      "source": [
        "#the real value was $811.66 and the predicted value was 638.59"
      ],
      "execution_count": null,
      "outputs": []
    }
  ]
}