{
  "nbformat": 4,
  "nbformat_minor": 0,
  "metadata": {
    "colab": {
      "name": "ARIMA_US.ipynb",
      "provenance": [],
      "collapsed_sections": [],
      "authorship_tag": "ABX9TyPkkNc+UJsBlWmt5LLjvU5F",
      "include_colab_link": true
    },
    "kernelspec": {
      "name": "python3",
      "display_name": "Python 3"
    }
  },
  "cells": [
    {
      "cell_type": "markdown",
      "metadata": {
        "id": "view-in-github",
        "colab_type": "text"
      },
      "source": [
        "<a href=\"https://colab.research.google.com/github/AndreAmaral0802/real_state_funds_VS_SELIC/blob/main/ARIMA_US.ipynb\" target=\"_parent\"><img src=\"https://colab.research.google.com/assets/colab-badge.svg\" alt=\"Open In Colab\"/></a>"
      ]
    },
    {
      "cell_type": "code",
      "metadata": {
        "id": "GinZ-lXnpl-A"
      },
      "source": [
        "# ARIMA for data series"
      ],
      "execution_count": null,
      "outputs": []
    },
    {
      "cell_type": "code",
      "metadata": {
        "id": "vbHqetRFsSg2",
        "colab": {
          "base_uri": "https://localhost:8080/"
        },
        "outputId": "66febf7b-0b50-44d5-fd13-0bbcc1e386d4"
      },
      "source": [
        "from google.colab import drive\r\n",
        "drive.mount('/content/drive/')"
      ],
      "execution_count": null,
      "outputs": [
        {
          "output_type": "stream",
          "text": [
            "Mounted at /content/drive/\n"
          ],
          "name": "stdout"
        }
      ]
    },
    {
      "cell_type": "code",
      "metadata": {
        "id": "StS2GN0jsSql"
      },
      "source": [
        "import pandas as pd\r\n",
        "dataset = pd.read_csv('drive/MyDrive/data_ARIMA.csv')"
      ],
      "execution_count": null,
      "outputs": []
    },
    {
      "cell_type": "code",
      "metadata": {
        "id": "PJG7okNCsS00",
        "colab": {
          "base_uri": "https://localhost:8080/",
          "height": 195
        },
        "outputId": "c50ef53d-2686-4ce5-c897-e3c95b677794"
      },
      "source": [
        "dataset.head()"
      ],
      "execution_count": null,
      "outputs": [
        {
          "output_type": "execute_result",
          "data": {
            "text/html": [
              "<div>\n",
              "<style scoped>\n",
              "    .dataframe tbody tr th:only-of-type {\n",
              "        vertical-align: middle;\n",
              "    }\n",
              "\n",
              "    .dataframe tbody tr th {\n",
              "        vertical-align: top;\n",
              "    }\n",
              "\n",
              "    .dataframe thead th {\n",
              "        text-align: right;\n",
              "    }\n",
              "</style>\n",
              "<table border=\"1\" class=\"dataframe\">\n",
              "  <thead>\n",
              "    <tr style=\"text-align: right;\">\n",
              "      <th></th>\n",
              "      <th>observation_date</th>\n",
              "      <th>GDP</th>\n",
              "    </tr>\n",
              "  </thead>\n",
              "  <tbody>\n",
              "    <tr>\n",
              "      <th>0</th>\n",
              "      <td>01/01/1981</td>\n",
              "      <td>3124206000</td>\n",
              "    </tr>\n",
              "    <tr>\n",
              "      <th>1</th>\n",
              "      <td>01/04/1981</td>\n",
              "      <td>3162532000</td>\n",
              "    </tr>\n",
              "    <tr>\n",
              "      <th>2</th>\n",
              "      <td>01/07/1981</td>\n",
              "      <td>3260609000</td>\n",
              "    </tr>\n",
              "    <tr>\n",
              "      <th>3</th>\n",
              "      <td>01/10/1981</td>\n",
              "      <td>3280818000</td>\n",
              "    </tr>\n",
              "    <tr>\n",
              "      <th>4</th>\n",
              "      <td>01/01/1982</td>\n",
              "      <td>3274302000</td>\n",
              "    </tr>\n",
              "  </tbody>\n",
              "</table>\n",
              "</div>"
            ],
            "text/plain": [
              "  observation_date         GDP\n",
              "0       01/01/1981  3124206000\n",
              "1       01/04/1981  3162532000\n",
              "2       01/07/1981  3260609000\n",
              "3       01/10/1981  3280818000\n",
              "4       01/01/1982  3274302000"
            ]
          },
          "metadata": {
            "tags": []
          },
          "execution_count": 4
        }
      ]
    },
    {
      "cell_type": "code",
      "metadata": {
        "id": "C-NzRbuhsS_M"
      },
      "source": [
        "# eliminate warnings \r\n",
        "import warnings\r\n",
        "warnings.filterwarnings(\"ignore\")"
      ],
      "execution_count": null,
      "outputs": []
    },
    {
      "cell_type": "code",
      "metadata": {
        "id": "-TQCtqMz2xTS"
      },
      "source": [
        "from pandas.plotting import autocorrelation_plot\r\n",
        "from matplotlib import pyplot\r\n",
        "import numpy as np\r\n"
      ],
      "execution_count": null,
      "outputs": []
    },
    {
      "cell_type": "code",
      "metadata": {
        "colab": {
          "base_uri": "https://localhost:8080/"
        },
        "id": "p0MHlXzZ4nSq",
        "outputId": "ffcb2e8e-e8fe-4e03-cefa-f5861d377fdf"
      },
      "source": [
        "dataset.dtypes"
      ],
      "execution_count": null,
      "outputs": [
        {
          "output_type": "execute_result",
          "data": {
            "text/plain": [
              "observation_date    object\n",
              "GDP                  int64\n",
              "dtype: object"
            ]
          },
          "metadata": {
            "tags": []
          },
          "execution_count": 7
        }
      ]
    },
    {
      "cell_type": "code",
      "metadata": {
        "colab": {
          "base_uri": "https://localhost:8080/"
        },
        "id": "L2YkoDLY43Sh",
        "outputId": "6667f072-d232-4e36-c632-d93556a38d00"
      },
      "source": [
        "dataset.observation_date = pd.to_datetime(dataset.observation_date)\r\n",
        "dataset.info()"
      ],
      "execution_count": null,
      "outputs": [
        {
          "output_type": "stream",
          "text": [
            "<class 'pandas.core.frame.DataFrame'>\n",
            "RangeIndex: 159 entries, 0 to 158\n",
            "Data columns (total 2 columns):\n",
            " #   Column            Non-Null Count  Dtype         \n",
            "---  ------            --------------  -----         \n",
            " 0   observation_date  159 non-null    datetime64[ns]\n",
            " 1   GDP               159 non-null    int64         \n",
            "dtypes: datetime64[ns](1), int64(1)\n",
            "memory usage: 2.6 KB\n"
          ],
          "name": "stdout"
        }
      ]
    },
    {
      "cell_type": "code",
      "metadata": {
        "id": "5vYCxSB0ehmM"
      },
      "source": [
        "dataset.set_index('observation_date', inplace=True)"
      ],
      "execution_count": null,
      "outputs": []
    },
    {
      "cell_type": "code",
      "metadata": {
        "colab": {
          "base_uri": "https://localhost:8080/"
        },
        "id": "ro0q8p9beiQd",
        "outputId": "12986be3-2927-4fc6-9b15-ae05086b3c57"
      },
      "source": [
        "dataset.info()"
      ],
      "execution_count": null,
      "outputs": [
        {
          "output_type": "stream",
          "text": [
            "<class 'pandas.core.frame.DataFrame'>\n",
            "DatetimeIndex: 159 entries, 1981-01-01 to 2020-01-07\n",
            "Data columns (total 1 columns):\n",
            " #   Column  Non-Null Count  Dtype\n",
            "---  ------  --------------  -----\n",
            " 0   GDP     159 non-null    int64\n",
            "dtypes: int64(1)\n",
            "memory usage: 2.5 KB\n"
          ],
          "name": "stdout"
        }
      ]
    },
    {
      "cell_type": "code",
      "metadata": {
        "colab": {
          "base_uri": "https://localhost:8080/",
          "height": 394
        },
        "id": "0CVZW414gVi9",
        "outputId": "931c254c-50eb-48b3-96b7-ff7be430e866"
      },
      "source": [
        "dataset.plot(figsize=(15, 6))"
      ],
      "execution_count": null,
      "outputs": [
        {
          "output_type": "execute_result",
          "data": {
            "text/plain": [
              "<matplotlib.axes._subplots.AxesSubplot at 0x7fe68a4ce2e8>"
            ]
          },
          "metadata": {
            "tags": []
          },
          "execution_count": 12
        },
        {
          "output_type": "display_data",
          "data": {
            "image/png": "[encoded data removed]",
            "text/plain": [
              "<Figure size 1080x432 with 1 Axes>"
            ]
          },
          "metadata": {
            "tags": [],
            "needs_background": "light"
          }
        }
      ]
    },
    {
      "cell_type": "code",
      "metadata": {
        "colab": {
          "base_uri": "https://localhost:8080/",
          "height": 394
        },
        "id": "EUL_ECTagV4V",
        "outputId": "0d4f8c8c-1a1d-4da0-c49c-4df217890e54"
      },
      "source": [
        "dataset.GDP.rolling(5).mean().plot(figsize=(15, 6))"
      ],
      "execution_count": null,
      "outputs": [
        {
          "output_type": "execute_result",
          "data": {
            "text/plain": [
              "<matplotlib.axes._subplots.AxesSubplot at 0x7fe68a3b2f28>"
            ]
          },
          "metadata": {
            "tags": []
          },
          "execution_count": 13
        },
        {
          "output_type": "display_data",
          "data": {
            "image/png": "[encoded data removed]",
            "text/plain": [
              "<Figure size 1080x432 with 1 Axes>"
            ]
          },
          "metadata": {
            "tags": [],
            "needs_background": "light"
          }
        }
      ]
    },
    {
      "cell_type": "code",
      "metadata": {
        "colab": {
          "base_uri": "https://localhost:8080/",
          "height": 416
        },
        "id": "H5b2j1kxj58Y",
        "outputId": "0a3ff8ec-96f9-47ce-f90c-03820c66b725"
      },
      "source": [
        "dataset.GDP.groupby(dataset.index.year).sum().plot(figsize=(15, 6))"
      ],
      "execution_count": null,
      "outputs": [
        {
          "output_type": "execute_result",
          "data": {
            "text/plain": [
              "<matplotlib.axes._subplots.AxesSubplot at 0x7fe689efdc88>"
            ]
          },
          "metadata": {
            "tags": []
          },
          "execution_count": 14
        },
        {
          "output_type": "display_data",
          "data": {
            "image/png": "[encoded data removed]",
            "text/plain": [
              "<Figure size 1080x432 with 1 Axes>"
            ]
          },
          "metadata": {
            "tags": [],
            "needs_background": "light"
          }
        }
      ]
    },
    {
      "cell_type": "code",
      "metadata": {
        "colab": {
          "base_uri": "https://localhost:8080/",
          "height": 394
        },
        "id": "VDsuxOdkj6VW",
        "outputId": "13997dbe-785f-42a7-c7b0-79d8ed7d76df"
      },
      "source": [
        "dataset.GDP.diff().plot(figsize=(15, 6))"
      ],
      "execution_count": null,
      "outputs": [
        {
          "output_type": "execute_result",
          "data": {
            "text/plain": [
              "<matplotlib.axes._subplots.AxesSubplot at 0x7fe68a3c87b8>"
            ]
          },
          "metadata": {
            "tags": []
          },
          "execution_count": 15
        },
        {
          "output_type": "display_data",
          "data": {
            "image/png": "[encoded data removed]",
            "text/plain": [
              "<Figure size 1080x432 with 1 Axes>"
            ]
          },
          "metadata": {
            "tags": [],
            "needs_background": "light"
          }
        }
      ]
    },
    {
      "cell_type": "code",
      "metadata": {
        "colab": {
          "base_uri": "https://localhost:8080/",
          "height": 394
        },
        "id": "kCxpCBK0j83V",
        "outputId": "915a0ea5-33fa-4ee5-cd7a-bdb4c4ea6655"
      },
      "source": [
        "# filter from 2010 to 2020\r\n",
        "filter = (dataset.index.year >= 2007) & (dataset.index.year <= 2020)\r\n",
        "dataset[filter].GDP.diff().plot(figsize=(15, 6))"
      ],
      "execution_count": null,
      "outputs": [
        {
          "output_type": "execute_result",
          "data": {
            "text/plain": [
              "<matplotlib.axes._subplots.AxesSubplot at 0x7fe689ded4a8>"
            ]
          },
          "metadata": {
            "tags": []
          },
          "execution_count": 16
        },
        {
          "output_type": "display_data",
          "data": {
            "image/png": "[encoded data removed]",
            "text/plain": [
              "<Figure size 1080x432 with 1 Axes>"
            ]
          },
          "metadata": {
            "tags": [],
            "needs_background": "light"
          }
        }
      ]
    },
    {
      "cell_type": "code",
      "metadata": {
        "colab": {
          "base_uri": "https://localhost:8080/",
          "height": 282
        },
        "id": "h6-Pp25w2xwa",
        "outputId": "a54be55f-8c59-4448-96f2-904356da5c6d"
      },
      "source": [
        "# autocorrelation plot\r\n",
        "autocorrelation_plot(dataset)\r\n",
        "pyplot.show()"
      ],
      "execution_count": null,
      "outputs": [
        {
          "output_type": "display_data",
          "data": {
            "image/png": "[encoded data removed]",
            "text/plain": [
              "<Figure size 432x288 with 1 Axes>"
            ]
          },
          "metadata": {
            "tags": [],
            "needs_background": "light"
          }
        }
      ]
    },
    {
      "cell_type": "code",
      "metadata": {
        "colab": {
          "base_uri": "https://localhost:8080/"
        },
        "id": "UuvRCDzOq7x9",
        "outputId": "b3768e01-d962-4a1b-eb1c-bdee5d6fbe49"
      },
      "source": [
        "pip install pandas "
      ],
      "execution_count": null,
      "outputs": [
        {
          "output_type": "stream",
          "text": [
            "Requirement already satisfied: pandas in /usr/local/lib/python3.6/dist-packages (1.1.5)\n",
            "Requirement already satisfied: python-dateutil>=2.7.3 in /usr/local/lib/python3.6/dist-packages (from pandas) (2.8.1)\n",
            "Requirement already satisfied: pytz>=2017.2 in /usr/local/lib/python3.6/dist-packages (from pandas) (2018.9)\n",
            "Requirement already satisfied: numpy>=1.15.4 in /usr/local/lib/python3.6/dist-packages (from pandas) (1.19.4)\n",
            "Requirement already satisfied: six>=1.5 in /usr/local/lib/python3.6/dist-packages (from python-dateutil>=2.7.3->pandas) (1.15.0)\n"
          ],
          "name": "stdout"
        }
      ]
    },
    {
      "cell_type": "code",
      "metadata": {
        "id": "6ewnIK9V2x5k"
      },
      "source": [
        "# another way of plotting autocorrelation\r\n",
        "import pandas.util.testing as tm\r\n",
        "from statsmodels.graphics.tsaplots import plot_acf\r\n",
        "from statsmodels.graphics.tsaplots import plot_pacf\r\n",
        "from matplotlib import pyplot"
      ],
      "execution_count": null,
      "outputs": []
    },
    {
      "cell_type": "code",
      "metadata": {
        "colab": {
          "base_uri": "https://localhost:8080/",
          "height": 281
        },
        "id": "XUk0Kk3s2yHr",
        "outputId": "d4b7bf1d-4380-48c7-b38c-9c1d6d8e5495"
      },
      "source": [
        "plot_acf(dataset, lags=40)\r\n",
        "pyplot.show()"
      ],
      "execution_count": null,
      "outputs": [
        {
          "output_type": "display_data",
          "data": {
            "image/png": "[encoded data removed]",
            "text/plain": [
              "<Figure size 432x288 with 1 Axes>"
            ]
          },
          "metadata": {
            "tags": [],
            "needs_background": "light"
          }
        }
      ]
    },
    {
      "cell_type": "code",
      "metadata": {
        "id": "00CN5iV-2ySh"
      },
      "source": [
        "# fit the arima model\r\n",
        "from statsmodels.tsa.arima_model import ARIMA\r\n",
        "from matplotlib import pyplot"
      ],
      "execution_count": null,
      "outputs": []
    },
    {
      "cell_type": "code",
      "metadata": {
        "colab": {
          "base_uri": "https://localhost:8080/"
        },
        "id": "cGqMgflU2ydu",
        "outputId": "ecfd4df3-a508-4aed-e934-57acf5f14a2b"
      },
      "source": [
        "# ARIMA (p, d, q)\r\n",
        "model = ARIMA(dataset, order=(4,1,1))"
      ],
      "execution_count": null,
      "outputs": [
        {
          "output_type": "stream",
          "text": [
            "/usr/local/lib/python3.6/dist-packages/statsmodels/tsa/base/tsa_model.py:219: ValueWarning: A date index has been provided, but it has no associated frequency information and so will be ignored when e.g. forecasting.\n",
            "  ' ignored when e.g. forecasting.', ValueWarning)\n",
            "/usr/local/lib/python3.6/dist-packages/statsmodels/tsa/base/tsa_model.py:219: ValueWarning: A date index has been provided, but it has no associated frequency information and so will be ignored when e.g. forecasting.\n",
            "  ' ignored when e.g. forecasting.', ValueWarning)\n"
          ],
          "name": "stderr"
        }
      ]
    },
    {
      "cell_type": "code",
      "metadata": {
        "id": "d-3TPyeo2ysM"
      },
      "source": [
        "model_fit = model.fit()"
      ],
      "execution_count": null,
      "outputs": []
    },
    {
      "cell_type": "code",
      "metadata": {
        "colab": {
          "base_uri": "https://localhost:8080/"
        },
        "id": "XPbCWKrB2y2m",
        "outputId": "c9931ada-645f-40a1-d354-6062eb48b405"
      },
      "source": [
        "# summary\r\n",
        "print(model_fit.summary())"
      ],
      "execution_count": null,
      "outputs": [
        {
          "output_type": "stream",
          "text": [
            "                             ARIMA Model Results                              \n",
            "==============================================================================\n",
            "Dep. Variable:                  D.GDP   No. Observations:                  158\n",
            "Model:                 ARIMA(4, 1, 1)   Log Likelihood               -3253.625\n",
            "Method:                       css-mle   S.D. of innovations      211027573.335\n",
            "Date:                Wed, 30 Dec 2020   AIC                           6521.250\n",
            "Time:                        10:46:37   BIC                           6542.688\n",
            "Sample:                             1   HQIC                          6529.956\n",
            "                                                                              \n",
            "===============================================================================\n",
            "                  coef    std err          z      P>|z|      [0.025      0.975]\n",
            "-------------------------------------------------------------------------------\n",
            "const        1.141e+08    7.2e+06     15.855      0.000       1e+08    1.28e+08\n",
            "ar.L1.D.GDP     0.5840      0.103      5.662      0.000       0.382       0.786\n",
            "ar.L2.D.GDP     0.4944      0.298      1.659      0.099      -0.090       1.079\n",
            "ar.L3.D.GDP     0.2473      0.359      0.688      0.492      -0.457       0.951\n",
            "ar.L4.D.GDP    -0.3595      0.215     -1.673      0.096      -0.781       0.062\n",
            "ma.L1.D.GDP    -0.9999      0.020    -51.257      0.000      -1.038      -0.962\n",
            "                                    Roots                                    \n",
            "=============================================================================\n",
            "                  Real          Imaginary           Modulus         Frequency\n",
            "-----------------------------------------------------------------------------\n",
            "AR.1           -0.9276           -0.9586j            1.3339           -0.3724\n",
            "AR.2           -0.9276           +0.9586j            1.3339            0.3724\n",
            "AR.3            1.0403           -0.0000j            1.0403           -0.0000\n",
            "AR.4            1.5027           -0.0000j            1.5027           -0.0000\n",
            "MA.1            1.0001           +0.0000j            1.0001            0.0000\n",
            "-----------------------------------------------------------------------------\n"
          ],
          "name": "stdout"
        }
      ]
    },
    {
      "cell_type": "code",
      "metadata": {
        "id": "y44C33hk2zB5"
      },
      "source": [
        "# plot residuals\r\n",
        "from pandas import DataFrame\r\n",
        "residuals = DataFrame (model_fit.resid)"
      ],
      "execution_count": null,
      "outputs": []
    },
    {
      "cell_type": "code",
      "metadata": {
        "colab": {
          "base_uri": "https://localhost:8080/",
          "height": 281
        },
        "id": "xWuCWWEJ45Qv",
        "outputId": "7644714f-74ed-4dc0-daef-ff69da20471d"
      },
      "source": [
        "residuals.plot()\r\n",
        "pyplot.show()"
      ],
      "execution_count": null,
      "outputs": [
        {
          "output_type": "display_data",
          "data": {
            "image/png": "[encoded data removed]",
            "text/plain": [
              "<Figure size 432x288 with 1 Axes>"
            ]
          },
          "metadata": {
            "tags": [],
            "needs_background": "light"
          }
        }
      ]
    },
    {
      "cell_type": "code",
      "metadata": {
        "colab": {
          "base_uri": "https://localhost:8080/",
          "height": 289
        },
        "id": "pZyMuxsm45op",
        "outputId": "77e15771-b321-4743-9de7-6a4d36343448"
      },
      "source": [
        "# density graph - Gaussian\r\n",
        "residuals.plot(kind='kde')\r\n",
        "pyplot.show()"
      ],
      "execution_count": null,
      "outputs": [
        {
          "output_type": "display_data",
          "data": {
            "image/png": "[encoded data removed]",
            "text/plain": [
              "<Figure size 432x288 with 1 Axes>"
            ]
          },
          "metadata": {
            "tags": [],
            "needs_background": "light"
          }
        }
      ]
    },
    {
      "cell_type": "code",
      "metadata": {
        "colab": {
          "base_uri": "https://localhost:8080/"
        },
        "id": "NVEar1DJ4567",
        "outputId": "8863db3e-694b-4f7d-e202-c8715bc62022"
      },
      "source": [
        "print(residuals.describe())"
      ],
      "execution_count": null,
      "outputs": [
        {
          "output_type": "stream",
          "text": [
            "                  0\n",
            "count  1.580000e+02\n",
            "mean  -1.503804e+07\n",
            "std    2.117517e+08\n",
            "min   -2.266738e+09\n",
            "25%   -5.831380e+07\n",
            "50%   -2.146158e+07\n",
            "75%    5.514869e+07\n",
            "max    6.858026e+08\n"
          ],
          "name": "stdout"
        }
      ]
    },
    {
      "cell_type": "code",
      "metadata": {
        "id": "lmJVMNO746Oe"
      },
      "source": [
        "# variable x receives dataset\r\n",
        "X = dataset.values\r\n",
        "X = X.astype('float32')"
      ],
      "execution_count": null,
      "outputs": []
    },
    {
      "cell_type": "code",
      "metadata": {
        "id": "yJiE-mDy8VyE"
      },
      "source": [
        "# separete the dataset\r\n",
        "size = int(len(X)* 0.70)"
      ],
      "execution_count": null,
      "outputs": []
    },
    {
      "cell_type": "code",
      "metadata": {
        "id": "um1Bdjux8WCB"
      },
      "source": [
        "# separete training and testing\r\n",
        "train = X[0:size]\r\n",
        "test = X[size:]"
      ],
      "execution_count": null,
      "outputs": []
    },
    {
      "cell_type": "code",
      "metadata": {
        "id": "MVSfG7Jq8WOJ"
      },
      "source": [
        "# create variable history\r\n",
        "history = [x for x in train]"
      ],
      "execution_count": null,
      "outputs": []
    },
    {
      "cell_type": "code",
      "metadata": {
        "id": "CFyPF5-L_QBX"
      },
      "source": [
        "# prediction list\r\n",
        "predictions = list()"
      ],
      "execution_count": null,
      "outputs": []
    },
    {
      "cell_type": "code",
      "metadata": {
        "id": "GG84JdPk_QX2"
      },
      "source": [
        "# differencing function\r\n",
        "def difference(dataset, interval=1):\r\n",
        "  diff = list()\r\n",
        "  for i in range(interval, len(dataset)):\r\n",
        "    value = dataset[i] - dataset[i - interval]\r\n",
        "    diff.append(value)\r\n",
        "  return diff\r\n",
        "\r\n",
        "# function that reverts the differecing value to original\r\n",
        "def inverse_difference(history, predictions, interval=1):\r\n",
        "  return predictions + history[-interval]"
      ],
      "execution_count": null,
      "outputs": []
    },
    {
      "cell_type": "code",
      "metadata": {
        "id": "6ty5gpJN_QzK"
      },
      "source": [
        "from statsmodels.tsa.arima_model import ARIMA\r\n",
        "from matplotlib import pyplot"
      ],
      "execution_count": null,
      "outputs": []
    },
    {
      "cell_type": "code",
      "metadata": {
        "colab": {
          "base_uri": "https://localhost:8080/"
        },
        "id": "hoIlnmn8EdKR",
        "outputId": "7a66ab5a-0799-4838-e962-1e163a4da23a"
      },
      "source": [
        "# start walk-forward\r\n",
        "for t in range(len(test)):\r\n",
        "\r\n",
        "  # difference data\r\n",
        "  quarters_per_year = 4\r\n",
        "  diff = difference(history, quarters_per_year)\r\n",
        "\r\n",
        "  # create arima model with history data\r\n",
        "  model = ARIMA(diff, order=(1,1,1))\r\n",
        "\r\n",
        "  # train ARIMA model\r\n",
        "  model_fit = model.fit(trend='nc', disp=0)\r\n",
        "\r\n",
        "  # variable predict_value receives the predicted value from the model\r\n",
        "  predict_value = model_fit.forecast()[0]\r\n",
        "\r\n",
        "  # predicted value receives the reverted value (original scale)\r\n",
        "  predict_value = inverse_difference(history, predict_value, quarters_per_year)\r\n",
        "\r\n",
        "  #adds the predicted values to the list of predictions\r\n",
        "  predictions.append(predict_value)\r\n",
        "\r\n",
        "  # variable real_value receives real value from the test\r\n",
        "  real_value = test[t]\r\n",
        "\r\n",
        "  # adds the real value to variable history\r\n",
        "  history.append(real_value)\r\n",
        "\r\n",
        "  # print predicted value e real value\r\n",
        "  print('Predicted value=%.3f, Expected value=%3.f' % (predict_value, real_value))"
      ],
      "execution_count": null,
      "outputs": [
        {
          "output_type": "stream",
          "text": [
            "Predicted value=14943962065.492, Expected value=14559543296\n",
            "Predicted value=14357488324.483, Expected value=14394547200\n",
            "Predicted value=14442101919.030, Expected value=14352849920\n",
            "Predicted value=14258046695.408, Expected value=14420312064\n",
            "Predicted value=14120673229.728, Expected value=14628021248\n",
            "Predicted value=14653744561.299, Expected value=14721349632\n",
            "Predicted value=14789411999.847, Expected value=14926098432\n",
            "Predicted value=15118089027.077, Expected value=15079916544\n",
            "Predicted value=15335486166.394, Expected value=15240843264\n",
            "Predicted value=15314930842.514, Expected value=15285827584\n",
            "Predicted value=15468056298.092, Expected value=15496188928\n",
            "Predicted value=15651769620.381, Expected value=15591849984\n",
            "Predicted value=15726721225.984, Expected value=15796459520\n",
            "Predicted value=15859758700.325, Expected value=16019758080\n",
            "Predicted value=16311758043.069, Expected value=16152256512\n",
            "Predicted value=16217488234.385, Expected value=16257150976\n",
            "Predicted value=16464223938.151, Expected value=16358862848\n",
            "Predicted value=16539377424.771, Expected value=16569590784\n",
            "Predicted value=16694318967.809, Expected value=16637926400\n",
            "Predicted value=16715758455.024, Expected value=16848747520\n",
            "Predicted value=16991534741.337, Expected value=17083137024\n",
            "Predicted value=17351436298.509, Expected value=17104555008\n",
            "Predicted value=17101735678.732, Expected value=17432909824\n",
            "Predicted value=17719168304.693, Expected value=17721657344\n",
            "Predicted value=17992152692.668, Expected value=17849911296\n",
            "Predicted value=17841958120.181, Expected value=18003398656\n",
            "Predicted value=18366860252.392, Expected value=18223577088\n",
            "Predicted value=18487671233.339, Expected value=18347425792\n",
            "Predicted value=18423171086.292, Expected value=18378803200\n",
            "Predicted value=18495138049.751, Expected value=18470156288\n",
            "Predicted value=18665770067.562, Expected value=18656206848\n",
            "Predicted value=18765895981.489, Expected value=18821359616\n",
            "Predicted value=18863050296.665, Expected value=19032580096\n",
            "Predicted value=19180646889.203, Expected value=19237435392\n",
            "Predicted value=19466950278.685, Expected value=19379232768\n",
            "Predicted value=19535723460.882, Expected value=19617288192\n",
            "Predicted value=19849665948.377, Expected value=19937961984\n",
            "Predicted value=20179538113.197, Expected value=20242214912\n",
            "Predicted value=20420250797.468, Expected value=20552652800\n",
            "Predicted value=20850638554.088, Expected value=20742723584\n",
            "Predicted value=21056500869.022, Expected value=20909852672\n",
            "Predicted value=21164194513.609, Expected value=21115308032\n",
            "Predicted value=21388723884.042, Expected value=21329876992\n",
            "Predicted value=21484524932.746, Expected value=21540325376\n",
            "Predicted value=21710586109.940, Expected value=21747394560\n",
            "Predicted value=21966178985.639, Expected value=21561139200\n",
            "Predicted value=21654457724.227, Expected value=19520114688\n",
            "Predicted value=17807051600.998, Expected value=21157122048\n"
          ],
          "name": "stdout"
        }
      ]
    },
    {
      "cell_type": "code",
      "metadata": {
        "colab": {
          "base_uri": "https://localhost:8080/"
        },
        "id": "EE4q3g17EdgM",
        "outputId": "f1ef5853-ec7d-49f3-eb19-2b6148d7daa4"
      },
      "source": [
        "# Checking the results\r\n",
        "from numpy import sqrt\r\n",
        "from sklearn.metrics import mean_squared_error\r\n",
        "rmse = sqrt(mean_squared_error(test, predictions))\r\n",
        "print('Test RMSE: %.3f' % rmse)"
      ],
      "execution_count": null,
      "outputs": [
        {
          "output_type": "stream",
          "text": [
            "Test RMSE: 593416506.563\n"
          ],
          "name": "stdout"
        }
      ]
    },
    {
      "cell_type": "code",
      "metadata": {
        "colab": {
          "base_uri": "https://localhost:8080/",
          "height": 276
        },
        "id": "EF4ZtkSa_RNP",
        "outputId": "bd886168-6ced-419e-bb64-72d17f75b6a5"
      },
      "source": [
        "# plot forecast against actual values\r\n",
        "pyplot.plot(test)\r\n",
        "pyplot.plot(predictions, color='red')\r\n",
        "pyplot.show()"
      ],
      "execution_count": null,
      "outputs": [
        {
          "output_type": "display_data",
          "data": {
            "image/png": "[encoded data removed]",
            "text/plain": [
              "<Figure size 432x288 with 1 Axes>"
            ]
          },
          "metadata": {
            "tags": [],
            "needs_background": "light"
          }
        }
      ]
    },
    {
      "cell_type": "code",
      "metadata": {
        "id": "92nr6Dys8WWN"
      },
      "source": [
        "# testing the residuals against values\r\n",
        "residuals = [test[i] - predictions[i] for i in range(len(test))]"
      ],
      "execution_count": null,
      "outputs": []
    },
    {
      "cell_type": "code",
      "metadata": {
        "id": "wMtYr0gQ8Wof"
      },
      "source": [
        "# convert the list into dataframe\r\n",
        "residuals = pd.DataFrame(residuals)"
      ],
      "execution_count": null,
      "outputs": []
    },
    {
      "cell_type": "code",
      "metadata": {
        "id": "GhSBvMtKsL51",
        "colab": {
          "base_uri": "https://localhost:8080/",
          "height": 195
        },
        "outputId": "6be5555e-7e69-4ba2-c276-1aad715af5a9"
      },
      "source": [
        "# residuals head\r\n",
        "residuals.head()"
      ],
      "execution_count": null,
      "outputs": [
        {
          "output_type": "execute_result",
          "data": {
            "text/html": [
              "<div>\n",
              "<style scoped>\n",
              "    .dataframe tbody tr th:only-of-type {\n",
              "        vertical-align: middle;\n",
              "    }\n",
              "\n",
              "    .dataframe tbody tr th {\n",
              "        vertical-align: top;\n",
              "    }\n",
              "\n",
              "    .dataframe thead th {\n",
              "        text-align: right;\n",
              "    }\n",
              "</style>\n",
              "<table border=\"1\" class=\"dataframe\">\n",
              "  <thead>\n",
              "    <tr style=\"text-align: right;\">\n",
              "      <th></th>\n",
              "      <th>0</th>\n",
              "    </tr>\n",
              "  </thead>\n",
              "  <tbody>\n",
              "    <tr>\n",
              "      <th>0</th>\n",
              "      <td>-3.844188e+08</td>\n",
              "    </tr>\n",
              "    <tr>\n",
              "      <th>1</th>\n",
              "      <td>3.705888e+07</td>\n",
              "    </tr>\n",
              "    <tr>\n",
              "      <th>2</th>\n",
              "      <td>-8.925200e+07</td>\n",
              "    </tr>\n",
              "    <tr>\n",
              "      <th>3</th>\n",
              "      <td>1.622654e+08</td>\n",
              "    </tr>\n",
              "    <tr>\n",
              "      <th>4</th>\n",
              "      <td>5.073480e+08</td>\n",
              "    </tr>\n",
              "  </tbody>\n",
              "</table>\n",
              "</div>"
            ],
            "text/plain": [
              "              0\n",
              "0 -3.844188e+08\n",
              "1  3.705888e+07\n",
              "2 -8.925200e+07\n",
              "3  1.622654e+08\n",
              "4  5.073480e+08"
            ]
          },
          "metadata": {
            "tags": []
          },
          "execution_count": 41
        }
      ]
    },
    {
      "cell_type": "code",
      "metadata": {
        "colab": {
          "base_uri": "https://localhost:8080/",
          "height": 283
        },
        "id": "iHrZx_ucTzCD",
        "outputId": "db7f00f6-a1af-42c9-b180-a35307ab8ad7"
      },
      "source": [
        "residuals.describe()"
      ],
      "execution_count": null,
      "outputs": [
        {
          "output_type": "execute_result",
          "data": {
            "text/html": [
              "<div>\n",
              "<style scoped>\n",
              "    .dataframe tbody tr th:only-of-type {\n",
              "        vertical-align: middle;\n",
              "    }\n",
              "\n",
              "    .dataframe tbody tr th {\n",
              "        vertical-align: top;\n",
              "    }\n",
              "\n",
              "    .dataframe thead th {\n",
              "        text-align: right;\n",
              "    }\n",
              "</style>\n",
              "<table border=\"1\" class=\"dataframe\">\n",
              "  <thead>\n",
              "    <tr style=\"text-align: right;\">\n",
              "      <th></th>\n",
              "      <th>0</th>\n",
              "    </tr>\n",
              "  </thead>\n",
              "  <tbody>\n",
              "    <tr>\n",
              "      <th>count</th>\n",
              "      <td>4.800000e+01</td>\n",
              "    </tr>\n",
              "    <tr>\n",
              "      <th>mean</th>\n",
              "      <td>2.687668e+07</td>\n",
              "    </tr>\n",
              "    <tr>\n",
              "      <th>std</th>\n",
              "      <td>5.990808e+08</td>\n",
              "    </tr>\n",
              "    <tr>\n",
              "      <th>min</th>\n",
              "      <td>-2.134343e+09</td>\n",
              "    </tr>\n",
              "    <tr>\n",
              "      <th>25%</th>\n",
              "      <td>-9.059972e+07</td>\n",
              "    </tr>\n",
              "    <tr>\n",
              "      <th>50%</th>\n",
              "      <td>1.531083e+07</td>\n",
              "    </tr>\n",
              "    <tr>\n",
              "      <th>75%</th>\n",
              "      <td>8.324756e+07</td>\n",
              "    </tr>\n",
              "    <tr>\n",
              "      <th>max</th>\n",
              "      <td>3.350070e+09</td>\n",
              "    </tr>\n",
              "  </tbody>\n",
              "</table>\n",
              "</div>"
            ],
            "text/plain": [
              "                  0\n",
              "count  4.800000e+01\n",
              "mean   2.687668e+07\n",
              "std    5.990808e+08\n",
              "min   -2.134343e+09\n",
              "25%   -9.059972e+07\n",
              "50%    1.531083e+07\n",
              "75%    8.324756e+07\n",
              "max    3.350070e+09"
            ]
          },
          "metadata": {
            "tags": []
          },
          "execution_count": 42
        }
      ]
    },
    {
      "cell_type": "code",
      "metadata": {
        "colab": {
          "base_uri": "https://localhost:8080/",
          "height": 276
        },
        "id": "hrMtVh3fUGAN",
        "outputId": "0a6c28da-bdf3-4aec-9531-67fafebb4dc5"
      },
      "source": [
        "residuals.plot()\r\n",
        "pyplot.show()"
      ],
      "execution_count": null,
      "outputs": [
        {
          "output_type": "display_data",
          "data": {
            "image/png": "[encoded data removed]",
            "text/plain": [
              "<Figure size 432x288 with 1 Axes>"
            ]
          },
          "metadata": {
            "tags": [],
            "needs_background": "light"
          }
        }
      ]
    },
    {
      "cell_type": "code",
      "metadata": {
        "colab": {
          "base_uri": "https://localhost:8080/",
          "height": 293
        },
        "id": "mIkk-Os0URU2",
        "outputId": "310df260-b9ee-42ca-db95-d0caa0390c70"
      },
      "source": [
        "# plot histogram\r\n",
        "pyplot.figure()\r\n",
        "pyplot.subplot(211)\r\n",
        "residuals.hist(ax=pyplot.gca())\r\n",
        "\r\n",
        "pyplot.subplot(212)\r\n",
        "residuals.plot(kind='kde', ax=pyplot.gca())\r\n",
        "pyplot.show()"
      ],
      "execution_count": null,
      "outputs": [
        {
          "output_type": "display_data",
          "data": {
            "image/png": "[encoded data removed]",
            "text/plain": [
              "<Figure size 432x288 with 2 Axes>"
            ]
          },
          "metadata": {
            "tags": [],
            "needs_background": "light"
          }
        }
      ]
    },
    {
      "cell_type": "code",
      "metadata": {
        "id": "X8JEsTt_UGMT"
      },
      "source": [
        "# autocorrelation in the residuals\r\n",
        "from statsmodels.graphics.tsaplots import plot_acf\r\n",
        "from statsmodels.graphics.tsaplots import plot_pacf"
      ],
      "execution_count": null,
      "outputs": []
    },
    {
      "cell_type": "code",
      "metadata": {
        "colab": {
          "base_uri": "https://localhost:8080/",
          "height": 281
        },
        "id": "Ot-tG-xcUG3b",
        "outputId": "c925dcf0-89f8-4c5f-d0db-fd7273ec7849"
      },
      "source": [
        "# plot the autocorrelation\r\n",
        "pyplot.figure()\r\n",
        "pyplot.subplot(211)\r\n",
        "plot_acf(residuals, ax=pyplot.gca())\r\n",
        "pyplot.subplot(212)\r\n",
        "plot_pacf(residuals, ax=pyplot.gca())\r\n",
        "pyplot.show()"
      ],
      "execution_count": null,
      "outputs": [
        {
          "output_type": "display_data",
          "data": {
            "image/png": "[encoded data removed]",
            "text/plain": [
              "<Figure size 432x288 with 2 Axes>"
            ]
          },
          "metadata": {
            "tags": [],
            "needs_background": "light"
          }
        }
      ]
    },
    {
      "cell_type": "code",
      "metadata": {
        "colab": {
          "base_uri": "https://localhost:8080/",
          "height": 159
        },
        "id": "4D7ObYEyS45j",
        "outputId": "0851d2f3-487f-4ffa-8c19-14fa053921d0"
      },
      "source": [
        "model10=ARIMA(dataset['GDP'],order=(1,0,5))\r\n",
        "model10=model10.fit"
      ],
      "execution_count": null,
      "outputs": [
        {
          "output_type": "error",
          "ename": "NameError",
          "evalue": "ignored",
          "traceback": [
            "\u001b[0;31m---------------------------------------------------------------------------\u001b[0m",
            "\u001b[0;31mNameError\u001b[0m                                 Traceback (most recent call last)",
            "\u001b[0;32m<ipython-input-48-141c4e69ef0c>\u001b[0m in \u001b[0;36m<module>\u001b[0;34m()\u001b[0m\n\u001b[0;32m----> 1\u001b[0;31m \u001b[0mprint\u001b[0m\u001b[0;34m(\u001b[0m\u001b[0mreg\u001b[0m\u001b[0;34m.\u001b[0m\u001b[0mcoef_\u001b[0m\u001b[0;34m)\u001b[0m\u001b[0;34m\u001b[0m\u001b[0;34m\u001b[0m\u001b[0m\n\u001b[0m",
            "\u001b[0;31mNameError\u001b[0m: name 'reg' is not defined"
          ]
        }
      ]
    },
    {
      "cell_type": "code",
      "metadata": {
        "colab": {
          "base_uri": "https://localhost:8080/",
          "height": 224
        },
        "id": "oTUidCMrTzhB",
        "outputId": "1c04a725-1ec7-478b-ab80-2b064287cc9d"
      },
      "source": [
        "from sklearn.metrics import r2_score\r\n",
        "# The coefficients\r\n",
        "print('Coefficients: \\n', reg.coef_)\r\n",
        "# The mean squared error\r\n",
        "print('Mean squared error: %.2f'\r\n",
        "      % mean_squared_error(test, predictions))\r\n",
        "# The coefficient of determination: 1 is perfect prediction\r\n",
        "print('Coefficient of determination: %.2f'\r\n",
        "      % r2_score(test, predictions))"
      ],
      "execution_count": null,
      "outputs": [
        {
          "output_type": "error",
          "ename": "NameError",
          "evalue": "ignored",
          "traceback": [
            "\u001b[0;31m---------------------------------------------------------------------------\u001b[0m",
            "\u001b[0;31mNameError\u001b[0m                                 Traceback (most recent call last)",
            "\u001b[0;32m<ipython-input-47-519d7609dd2d>\u001b[0m in \u001b[0;36m<module>\u001b[0;34m()\u001b[0m\n\u001b[1;32m      1\u001b[0m \u001b[0;32mfrom\u001b[0m \u001b[0msklearn\u001b[0m\u001b[0;34m.\u001b[0m\u001b[0mmetrics\u001b[0m \u001b[0;32mimport\u001b[0m \u001b[0mr2_score\u001b[0m\u001b[0;34m\u001b[0m\u001b[0;34m\u001b[0m\u001b[0m\n\u001b[1;32m      2\u001b[0m \u001b[0;31m# The coefficients\u001b[0m\u001b[0;34m\u001b[0m\u001b[0;34m\u001b[0m\u001b[0;34m\u001b[0m\u001b[0m\n\u001b[0;32m----> 3\u001b[0;31m \u001b[0mprint\u001b[0m\u001b[0;34m(\u001b[0m\u001b[0;34m'Coefficients: \\n'\u001b[0m\u001b[0;34m,\u001b[0m \u001b[0mreg\u001b[0m\u001b[0;34m.\u001b[0m\u001b[0mcoef_\u001b[0m\u001b[0;34m)\u001b[0m\u001b[0;34m\u001b[0m\u001b[0;34m\u001b[0m\u001b[0m\n\u001b[0m\u001b[1;32m      4\u001b[0m \u001b[0;31m# The mean squared error\u001b[0m\u001b[0;34m\u001b[0m\u001b[0;34m\u001b[0m\u001b[0;34m\u001b[0m\u001b[0m\n\u001b[1;32m      5\u001b[0m print('Mean squared error: %.2f'\n",
            "\u001b[0;31mNameError\u001b[0m: name 'reg' is not defined"
          ]
        }
      ]
    },
    {
      "cell_type": "code",
      "metadata": {
        "id": "rAiKpU7mRu6y"
      },
      "source": [
        ""
      ],
      "execution_count": null,
      "outputs": []
    },
    {
      "cell_type": "code",
      "metadata": {
        "colab": {
          "base_uri": "https://localhost:8080/"
        },
        "id": "8gGXEPdsRvkM",
        "outputId": "260dc1cc-bb8a-4c38-b349-b54a926da465"
      },
      "source": [
        "print(dataset.describe())"
      ],
      "execution_count": null,
      "outputs": [
        {
          "output_type": "stream",
          "text": [
            "                GDP\n",
            "count  1.590000e+02\n",
            "mean   1.096171e+10\n",
            "std    5.487851e+09\n",
            "min    3.124206e+09\n",
            "25%    6.025147e+09\n",
            "50%    1.043902e+10\n",
            "75%    1.516038e+10\n",
            "max    2.174739e+10\n"
          ],
          "name": "stdout"
        }
      ]
    },
    {
      "cell_type": "code",
      "metadata": {
        "id": "FBIfaZ-eRwFt"
      },
      "source": [
        ""
      ],
      "execution_count": null,
      "outputs": []
    }
  ]
}