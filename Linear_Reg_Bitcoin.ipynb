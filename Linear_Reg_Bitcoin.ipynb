{
  "nbformat": 4,
  "nbformat_minor": 0,
  "metadata": {
    "colab": {
      "name": "Linear_Reg_Bitcoin.ipynb",
      "provenance": [],
      "collapsed_sections": [],
      "authorship_tag": "ABX9TyPvxFT4yAOYRFazlB3szGk+",
      "include_colab_link": true
    },
    "kernelspec": {
      "name": "python3",
      "display_name": "Python 3"
    }
  },
  "cells": [
    {
      "cell_type": "markdown",
      "metadata": {
        "id": "view-in-github",
        "colab_type": "text"
      },
      "source": [
        "<a href=\"https://colab.research.google.com/github/AndreAmaral0802/real_state_funds_VS_SELIC/blob/main/Linear_Reg_Bitcoin.ipynb\" target=\"_parent\"><img src=\"https://colab.research.google.com/assets/colab-badge.svg\" alt=\"Open In Colab\"/></a>"
      ]
    },
    {
      "cell_type": "code",
      "metadata": {
        "id": "WEgExsqjB6de",
        "colab": {
          "base_uri": "https://localhost:8080/",
          "height": 70
        },
        "outputId": "74f388f2-90e6-4776-b9a9-0bb0e9247645"
      },
      "source": [
        "import numpy as np\n",
        "import pandas as pd\n",
        "import pylab as pl\n",
        "import matplotlib.pyplot as plt\n",
        "import pandas_datareader.data as web\n",
        "import seaborn as sns\n",
        "from sklearn import linear_model\n",
        "from sklearn.model_selection import train_test_split\n",
        "%matplotlib inline\n",
        "from google.colab import files"
      ],
      "execution_count": null,
      "outputs": [
        {
          "output_type": "stream",
          "text": [
            "/usr/local/lib/python3.6/dist-packages/pandas_datareader/compat/__init__.py:7: FutureWarning: pandas.util.testing is deprecated. Use the functions in the public API at pandas.testing instead.\n",
            "  from pandas.util.testing import assert_frame_equal\n"
          ],
          "name": "stderr"
        }
      ]
    },
    {
      "cell_type": "code",
      "metadata": {
        "id": "s4w5oDj5CW_r",
        "colab": {
          "resources": {
            "http://localhost:8080/nbextensions/google.colab/files.js": {
              "data": "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",
              "ok": true,
              "headers": [
                [
                  "content-type",
                  "application/javascript"
                ]
              ],
              "status": 200,
              "status_text": ""
            }
          },
          "base_uri": "https://localhost:8080/",
          "height": 38
        },
        "outputId": "5bce7bb1-e75b-4c1d-ed6d-dc9c02db8b10"
      },
      "source": [
        "uploaded = files.upload()"
      ],
      "execution_count": null,
      "outputs": [
        {
          "output_type": "display_data",
          "data": {
            "text/html": [
              "\n",
              "     <input type=\"file\" id=\"files-dbf77fa1-5feb-4eab-82aa-b27e4efaeea4\" name=\"files[]\" multiple disabled\n",
              "        style=\"border:none\" />\n",
              "     <output id=\"result-dbf77fa1-5feb-4eab-82aa-b27e4efaeea4\">\n",
              "      Upload widget is only available when the cell has been executed in the\n",
              "      current browser session. Please rerun this cell to enable.\n",
              "      </output>\n",
              "      <script src=\"/nbextensions/google.colab/files.js\"></script> "
            ],
            "text/plain": [
              "<IPython.core.display.HTML object>"
            ]
          },
          "metadata": {
            "tags": []
          }
        }
      ]
    },
    {
      "cell_type": "code",
      "metadata": {
        "id": "VNaZX--jENhw",
        "colab": {
          "base_uri": "https://localhost:8080/",
          "height": 33
        },
        "outputId": "894ff3ab-235e-4ce1-81d2-bb7d89c9694d"
      },
      "source": [
        "for fn in uploaded.keys():\n",
        "  print('User uploaded file \"{name}\" with length {length} bytes'.format(\n",
        "      name=fn, length=len(uploaded[fn])))"
      ],
      "execution_count": null,
      "outputs": [
        {
          "output_type": "stream",
          "text": [
            "User uploaded file \"bitcoin_reg_py.csv\" with length 4833 bytes\n"
          ],
          "name": "stdout"
        }
      ]
    },
    {
      "cell_type": "code",
      "metadata": {
        "id": "pbBVMi3lE9NC",
        "colab": {
          "base_uri": "https://localhost:8080/",
          "height": 53
        },
        "outputId": "af96597f-c00a-43c7-d982-3b956726d1cb"
      },
      "source": [
        "uploaded"
      ],
      "execution_count": null,
      "outputs": [
        {
          "output_type": "execute_result",
          "data": {
            "text/plain": [
              "{'bitcoin_reg_py.csv': b',^BVSP,USDBRL=X,GC=F,EURBRL,BZ=F,BTC-USD\\r\\n03/01/2020,117707,4.0234,1549.199951,4.492,68.660004,7344.884277\\r\\n06/01/2020,116878,4.057,1571.300049,4.5338,69.57,7410.656738\\r\\n07/01/2020,116662,4.0604,1566.199951,4.5434,68.5,7411.317383\\r\\n08/01/2020,116247,4.0662,1571.800049,4.5322,70.860001,7769.219238\\r\\n09/01/2020,115947,4.0628,1557.400024,4.5127,65.739998,8163.692383\\r\\n10/01/2020,115503,4.0921,1551.699951,4.5428,65.309998,8079.862793\\r\\n13/01/2020,117325,4.0705,1557.5,4.5127,65,7879.071289\\r\\n14/01/2020,117632,4.1458,1559.900024,4.6143,64.699997,8166.554199\\r\\n15/01/2020,116414,4.1313,1548.400024,4.5949,64.220001,8037.537598\\r\\n16/01/2020,116704,4.1742,1542.400024,4.6526,64.400002,8192.494141\\r\\n17/01/2020,118478,4.1836,1552.099976,4.6571,64.360001,8144.194336\\r\\n20/01/2020,118862,4.1616,1549,4.6117,64.760002,8827.764648\\r\\n21/01/2020,117026,4.1885,1558.800049,4.6453,65.089996,8807.010742\\r\\n22/01/2020,118391,4.2109,1557.300049,4.6657,65.779999,8723.786133\\r\\n23/01/2020,119528,4.1813,1556.400024,4.6373,64.550003,8929.038086\\r\\n24/01/2020,118376,4.1691,1555.300049,4.6064,62.689999,8942.808594\\r\\n27/01/2020,114482,4.1595,1564.599976,4.6063,62.150002,8706.245117\\r\\n28/01/2020,116479,4.2061,1571.099976,4.6326,60.619999,8657.642578\\r\\n29/01/2020,115385,4.1934,1582.300049,4.6193,59.07,8745.894531\\r\\n30/01/2020,115528,4.2289,1576.800049,4.6552,59.209999,8680.875977\\r\\n31/01/2020,113761,4.2422,1569.199951,4.6771,59.720001,8406.515625\\r\\n03/02/2020,114629,4.2826,1569.800049,4.7468,59.599998,8445.43457\\r\\n04/02/2020,115557,4.2468,1583.5,4.6949,59.07,8367.847656\\r\\n05/02/2020,116028,4.2537,1582.900024,4.6961,58.150002,8596.830078\\r\\n07/02/2020,113770,4.2808,1577.199951,4.6983,54.220001,9358.589844\\r\\n10/02/2020,112570,4.3204,1550.400024,4.725,53.959999,9316.629883\\r\\n11/02/2020,115371,4.32097,1557.800049,4.7144,55.59,9508.993164\\r\\n12/02/2020,116674,4.32753,1565.099976,4.7262,55.41,9350.529297\\r\\n13/02/2020,115662,4.3545,1568.599976,4.7322,54.450001,9392.875\\r\\n14/02/2020,114381,4.34677,1577.300049,4.7127,53.790001,9344.365234\\r\\n17/02/2020,115309,4.297,1574.699951,4.6512,53.59,9293.521484\\r\\n18/02/2020,114977,4.3265,1565.599976,4.6858,54.400002,9180.962891\\r\\n19/02/2020,116518,4.3548,1567.400024,4.699,56.279999,9613.423828\\r\\n20/02/2020,114586,4.364,1575.099976,4.7154,56.290001,9729.801758\\r\\n21/02/2020,113681,4.3923,1582.699951,4.7361,57.360001,9795.943359\\r\\n27/02/2020,102984,4.3866,1600,4.7571,57.740002,10116.67383\\r\\n28/02/2020,104172,4.3868,1607.5,4.7703,59.299999,9856.611328\\r\\n02/03/2020,106625,4.4491,1616.599976,4.8404,58.91,10208.23633\\r\\n03/03/2020,105537,4.4848,1644.599976,4.9308,58.43,10326.05469\\r\\n04/03/2020,107224,4.4413,1667.5,4.9288,56.970001,10214.37988\\r\\n05/03/2020,102233,4.4724,1672.400024,4.9826,56.27,10312.11621\\r\\n06/03/2020,97997,4.5132,1646.900024,5.0419,55.07,9889.424805\\r\\n09/03/2020,86067,4.5834,1640,5.1035,53.43,9934.433594\\r\\n10/03/2020,92214,4.6062,1643.099976,5.1673,52,9690.142578\\r\\n11/03/2020,85171,4.5898,1642.5,5.2183,50.5,10141.99609\\r\\n16/03/2020,71168,4.8138,1594.800049,5.4191,51.689999,9686.441406\\r\\n17/03/2020,74617,4.7902,1644.400024,5.3554,51.639999,9663.181641\\r\\n18/03/2020,66895,4.8526,1643,5.3933,50.029999,9924.515625\\r\\n19/03/2020,68332,4.999,1668,5.5761,45.529999,9650.174805\\r\\n20/03/2020,67069,5.0097,1670.800049,5.5148,35.689999,9341.705078\\r\\n23/03/2020,63570,5.10396,1672.400024,5.5943,35.529999,8820.522461\\r\\n24/03/2020,69729,5.0942,1675.699951,5.4275,36.84,8784.494141\\r\\n25/03/2020,74956,5.0455,1660.300049,5.4119,36.009998,8672.455078\\r\\n26/03/2020,77710,5.1417,1642.300049,5.5316,32.540001,8599.508789\\r\\n27/03/2020,73429,5.0981,1590.300049,5.5045,34.599998,8562.454102\\r\\n30/03/2020,74640,5.0337,1515.699951,5.4781,32.279999,8869.669922\\r\\n31/03/2020,73020,5.0226,1516.699951,5.546,30.16,8787.786133\\r\\n01/04/2020,70967,5.10463,1486.5,5.6789,28.459999,8755.246094\\r\\n02/04/2020,72253,5.1927,1525.800049,5.7251,27.639999,9078.762695\\r\\n03/04/2020,69538,5.2035,1477.900024,5.7359,28.59,9122.545898\\r\\n06/04/2020,74073,5.2482,1479.300049,5.7448,27.41,8909.954102\\r\\n07/04/2020,76358,5.2553,1495.599976,5.6973,25.1,8108.116211\\r\\n08/04/2020,78625,5.3485,1575.699951,5.7786,27.75,7923.644531\\r\\n09/04/2020,77682,5.2853,1696.099976,5.7062,27.610001,7909.729492\\r\\n13/04/2020,78836,5.2217,1638.099976,5.6869,27.17,7911.430176\\r\\n14/04/2020,79918,5.1235,1636.599976,5.5625,26.940001,4970.788086\\r\\n15/04/2020,78831,5.1058,1630.599976,5.5762,24.950001,5563.707031\\r\\n16/04/2020,77812,5.1055,1664.199951,5.5396,23.5,5200.366211\\r\\n17/04/2020,78990,5.1985,1637.199951,5.5396,22.9,5392.314941\\r\\n20/04/2020,78973,5.162,1592.400024,5.6682,22.719999,5014.47998\\r\\n23/04/2020,79673,5.2309,1637.699951,5.68,29.82,5238.438477\\r\\n24/04/2020,75331,5.2327,1648.800049,5.6467,34.779999,6191.192871\\r\\n28/04/2020,81312,5.315,1730.699951,5.7679,33.73,6185.066406\\r\\n29/04/2020,83171,5.4569,1693.900024,5.8947,32.66,5830.254883\\r\\n30/04/2020,80506,5.5331,1680.699951,5.9585,33.75,6416.314941\\r\\n'}"
            ]
          },
          "metadata": {
            "tags": []
          },
          "execution_count": 5
        }
      ]
    },
    {
      "cell_type": "code",
      "metadata": {
        "id": "167yHrxzFAYD"
      },
      "source": [
        "import io"
      ],
      "execution_count": null,
      "outputs": []
    },
    {
      "cell_type": "code",
      "metadata": {
        "id": "u6qGl3BRFgOP"
      },
      "source": [
        "bitcoin_df = pd.read_csv(io.StringIO(uploaded['bitcoin_reg_py.csv'].decode('utf-8')))"
      ],
      "execution_count": null,
      "outputs": []
    },
    {
      "cell_type": "code",
      "metadata": {
        "id": "J4V3smtZFycr",
        "colab": {
          "base_uri": "https://localhost:8080/",
          "height": 201
        },
        "outputId": "47fe7fd1-eabe-4467-fe4b-6b1f653a7b7e"
      },
      "source": [
        "bitcoin_df.head()"
      ],
      "execution_count": null,
      "outputs": [
        {
          "output_type": "execute_result",
          "data": {
            "text/html": [
              "<div>\n",
              "<style scoped>\n",
              "    .dataframe tbody tr th:only-of-type {\n",
              "        vertical-align: middle;\n",
              "    }\n",
              "\n",
              "    .dataframe tbody tr th {\n",
              "        vertical-align: top;\n",
              "    }\n",
              "\n",
              "    .dataframe thead th {\n",
              "        text-align: right;\n",
              "    }\n",
              "</style>\n",
              "<table border=\"1\" class=\"dataframe\">\n",
              "  <thead>\n",
              "    <tr style=\"text-align: right;\">\n",
              "      <th></th>\n",
              "      <th>Unnamed: 0</th>\n",
              "      <th>^BVSP</th>\n",
              "      <th>USDBRL=X</th>\n",
              "      <th>GC=F</th>\n",
              "      <th>EURBRL</th>\n",
              "      <th>BZ=F</th>\n",
              "      <th>BTC-USD</th>\n",
              "    </tr>\n",
              "  </thead>\n",
              "  <tbody>\n",
              "    <tr>\n",
              "      <th>0</th>\n",
              "      <td>03/01/2020</td>\n",
              "      <td>117707</td>\n",
              "      <td>4.0234</td>\n",
              "      <td>1549.199951</td>\n",
              "      <td>4.4920</td>\n",
              "      <td>68.660004</td>\n",
              "      <td>7344.884277</td>\n",
              "    </tr>\n",
              "    <tr>\n",
              "      <th>1</th>\n",
              "      <td>06/01/2020</td>\n",
              "      <td>116878</td>\n",
              "      <td>4.0570</td>\n",
              "      <td>1571.300049</td>\n",
              "      <td>4.5338</td>\n",
              "      <td>69.570000</td>\n",
              "      <td>7410.656738</td>\n",
              "    </tr>\n",
              "    <tr>\n",
              "      <th>2</th>\n",
              "      <td>07/01/2020</td>\n",
              "      <td>116662</td>\n",
              "      <td>4.0604</td>\n",
              "      <td>1566.199951</td>\n",
              "      <td>4.5434</td>\n",
              "      <td>68.500000</td>\n",
              "      <td>7411.317383</td>\n",
              "    </tr>\n",
              "    <tr>\n",
              "      <th>3</th>\n",
              "      <td>08/01/2020</td>\n",
              "      <td>116247</td>\n",
              "      <td>4.0662</td>\n",
              "      <td>1571.800049</td>\n",
              "      <td>4.5322</td>\n",
              "      <td>70.860001</td>\n",
              "      <td>7769.219238</td>\n",
              "    </tr>\n",
              "    <tr>\n",
              "      <th>4</th>\n",
              "      <td>09/01/2020</td>\n",
              "      <td>115947</td>\n",
              "      <td>4.0628</td>\n",
              "      <td>1557.400024</td>\n",
              "      <td>4.5127</td>\n",
              "      <td>65.739998</td>\n",
              "      <td>8163.692383</td>\n",
              "    </tr>\n",
              "  </tbody>\n",
              "</table>\n",
              "</div>"
            ],
            "text/plain": [
              "   Unnamed: 0   ^BVSP  USDBRL=X         GC=F  EURBRL       BZ=F      BTC-USD\n",
              "0  03/01/2020  117707    4.0234  1549.199951  4.4920  68.660004  7344.884277\n",
              "1  06/01/2020  116878    4.0570  1571.300049  4.5338  69.570000  7410.656738\n",
              "2  07/01/2020  116662    4.0604  1566.199951  4.5434  68.500000  7411.317383\n",
              "3  08/01/2020  116247    4.0662  1571.800049  4.5322  70.860001  7769.219238\n",
              "4  09/01/2020  115947    4.0628  1557.400024  4.5127  65.739998  8163.692383"
            ]
          },
          "metadata": {
            "tags": []
          },
          "execution_count": 8
        }
      ]
    },
    {
      "cell_type": "code",
      "metadata": {
        "id": "uprbV28RGiSP"
      },
      "source": [
        "# transform data set into data frame"
      ],
      "execution_count": null,
      "outputs": []
    },
    {
      "cell_type": "code",
      "metadata": {
        "id": "_Rch8LiGGnBR",
        "colab": {
          "base_uri": "https://localhost:8080/",
          "height": 182
        },
        "outputId": "74b23bf0-a753-4ec7-a4f3-3cbe567c6e23"
      },
      "source": [
        "X = bitcoin_df[['^BVSP', 'USDBRL=X', 'GC=F', 'EURBRL', 'BZ=F']].values\n",
        "X[0:5]"
      ],
      "execution_count": null,
      "outputs": [
        {
          "output_type": "execute_result",
          "data": {
            "text/plain": [
              "array([[1.17707000e+05, 4.02340000e+00, 1.54919995e+03, 4.49200000e+00,\n",
              "        6.86600040e+01],\n",
              "       [1.16878000e+05, 4.05700000e+00, 1.57130005e+03, 4.53380000e+00,\n",
              "        6.95700000e+01],\n",
              "       [1.16662000e+05, 4.06040000e+00, 1.56619995e+03, 4.54340000e+00,\n",
              "        6.85000000e+01],\n",
              "       [1.16247000e+05, 4.06620000e+00, 1.57180005e+03, 4.53220000e+00,\n",
              "        7.08600010e+01],\n",
              "       [1.15947000e+05, 4.06280000e+00, 1.55740002e+03, 4.51270000e+00,\n",
              "        6.57399980e+01]])"
            ]
          },
          "metadata": {
            "tags": []
          },
          "execution_count": 10
        }
      ]
    },
    {
      "cell_type": "code",
      "metadata": {
        "id": "BxTP9vQbLjxF",
        "colab": {
          "base_uri": "https://localhost:8080/",
          "height": 99
        },
        "outputId": "0449ca52-f278-4d7f-a43e-030c573fc4fe"
      },
      "source": [
        "y = bitcoin_df[['BTC-USD']].values\n",
        "y[0:5]"
      ],
      "execution_count": null,
      "outputs": [
        {
          "output_type": "execute_result",
          "data": {
            "text/plain": [
              "array([[7344.884277],\n",
              "       [7410.656738],\n",
              "       [7411.317383],\n",
              "       [7769.219238],\n",
              "       [8163.692383]])"
            ]
          },
          "metadata": {
            "tags": []
          },
          "execution_count": 11
        }
      ]
    },
    {
      "cell_type": "markdown",
      "metadata": {
        "id": "tAitJRG4NXYB"
      },
      "source": [
        "Initialize Reg"
      ]
    },
    {
      "cell_type": "code",
      "metadata": {
        "id": "UkwUR89qMiK2"
      },
      "source": [
        "reg = linear_model.LinearRegression()"
      ],
      "execution_count": null,
      "outputs": []
    },
    {
      "cell_type": "code",
      "metadata": {
        "id": "W2ZOUi_uMvBl"
      },
      "source": [
        "# Split the data into 70% training and 30% test\n",
        "x_train, x_test, y_train, y_test = train_test_split(X, y, test_size=0.3, random_state= None)"
      ],
      "execution_count": null,
      "outputs": []
    },
    {
      "cell_type": "code",
      "metadata": {
        "id": "nbbDLwUvNSOF",
        "colab": {
          "base_uri": "https://localhost:8080/",
          "height": 33
        },
        "outputId": "d2c8e35f-830b-4898-ebde-aceb16a95dd6"
      },
      "source": [
        "reg.fit(x_train, y_train)"
      ],
      "execution_count": null,
      "outputs": [
        {
          "output_type": "execute_result",
          "data": {
            "text/plain": [
              "LinearRegression(copy_X=True, fit_intercept=True, n_jobs=None, normalize=False)"
            ]
          },
          "metadata": {
            "tags": []
          },
          "execution_count": 17
        }
      ]
    },
    {
      "cell_type": "code",
      "metadata": {
        "id": "ZiFotzEjNzR1",
        "colab": {
          "base_uri": "https://localhost:8080/",
          "height": 50
        },
        "outputId": "6e3d7591-94dc-458a-9c2d-9c90a84664e4"
      },
      "source": [
        "# Getting the coefficients \n",
        "print(reg.coef_)"
      ],
      "execution_count": null,
      "outputs": [
        {
          "output_type": "stream",
          "text": [
            "[[-7.30404899e-02  3.99563698e+03 -3.55385968e+00 -4.57035455e+03\n",
            "   8.85119044e+01]]\n"
          ],
          "name": "stdout"
        }
      ]
    },
    {
      "cell_type": "code",
      "metadata": {
        "id": "ggbiI5vqN8Gg"
      },
      "source": [
        "# Print the predictions on test data\n",
        "y_pred = reg.predict(x_test)\n",
        "print(y_pred)"
      ],
      "execution_count": null,
      "outputs": []
    },
    {
      "cell_type": "code",
      "metadata": {
        "id": "UOqQq6LwOfJk"
      },
      "source": [
        "# actual values to compare\n",
        "print(y_test)"
      ],
      "execution_count": null,
      "outputs": []
    },
    {
      "cell_type": "code",
      "metadata": {
        "id": "E3kLFMxSPRrM",
        "colab": {
          "base_uri": "https://localhost:8080/",
          "height": 33
        },
        "outputId": "aa89a855-d921-440e-cc85-961f70501ed4"
      },
      "source": [
        "# Checking the model performance / accuracy using Mean Square Error (MSE)\n",
        "print( np.mean( (y_pred - y_test)**2))"
      ],
      "execution_count": null,
      "outputs": [
        {
          "output_type": "stream",
          "text": [
            "1399236.1164292058\n"
          ],
          "name": "stdout"
        }
      ]
    },
    {
      "cell_type": "code",
      "metadata": {
        "id": "KL79oDfGQFs3",
        "colab": {
          "base_uri": "https://localhost:8080/",
          "height": 33
        },
        "outputId": "2acfbbd3-82c3-4eef-a1e1-8425b7d2a970"
      },
      "source": [
        "#Checking with SKLEARN\n",
        "from sklearn.metrics import mean_squared_error\n",
        "print(mean_squared_error(y_test, y_pred))"
      ],
      "execution_count": null,
      "outputs": [
        {
          "output_type": "stream",
          "text": [
            "1399236.1164292058\n"
          ],
          "name": "stdout"
        }
      ]
    },
    {
      "cell_type": "code",
      "metadata": {
        "id": "MJDShKUeYj0O",
        "colab": {
          "base_uri": "https://localhost:8080/",
          "height": 99
        },
        "outputId": "218061ac-0880-4fc6-d1f7-f03c98a958fb"
      },
      "source": [
        "from sklearn.metrics import r2_score\n",
        "# The coefficients\n",
        "print('Coefficients: \\n', reg.coef_)\n",
        "# The mean squared error\n",
        "print('Mean squared error: %.2f'\n",
        "      % mean_squared_error(y_test, y_pred))\n",
        "# The coefficient of determination: 1 is perfect prediction\n",
        "print('Coefficient of determination: %.2f'\n",
        "      % r2_score(y_test, y_pred))"
      ],
      "execution_count": null,
      "outputs": [
        {
          "output_type": "stream",
          "text": [
            "Coefficients: \n",
            " [[-7.30404899e-02  3.99563698e+03 -3.55385968e+00 -4.57035455e+03\n",
            "   8.85119044e+01]]\n",
            "Mean squared error: 1399236.12\n",
            "Coefficient of determination: 0.41\n"
          ],
          "name": "stdout"
        }
      ]
    }
  ]
}